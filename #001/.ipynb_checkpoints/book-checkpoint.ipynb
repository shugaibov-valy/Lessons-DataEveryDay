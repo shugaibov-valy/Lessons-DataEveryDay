{
 "cells": [
  {
   "cell_type": "code",
   "execution_count": 13,
   "id": "aboriginal-timber",
   "metadata": {},
   "outputs": [],
   "source": [
    "import numpy as np\n",
    "from tensorflow.keras.utils import to_categorical\n",
    "from tensorflow.keras.datasets import cifar10"
   ]
  },
  {
   "cell_type": "code",
   "execution_count": 14,
   "id": "latin-commission",
   "metadata": {},
   "outputs": [],
   "source": [
    "(x_train, y_train), (x_test, y_test) = cifar10.load_data()"
   ]
  },
  {
   "cell_type": "code",
   "execution_count": 15,
   "id": "humanitarian-thumbnail",
   "metadata": {},
   "outputs": [],
   "source": [
    "NUM_CLASSES = 10"
   ]
  },
  {
   "cell_type": "code",
   "execution_count": 16,
   "id": "northern-eagle",
   "metadata": {},
   "outputs": [],
   "source": [
    "x_train = x_train.astype('float32') / 255.0\n",
    "x_test = x_test.astype('float32') / 255.0"
   ]
  },
  {
   "cell_type": "code",
   "execution_count": 17,
   "id": "three-express",
   "metadata": {},
   "outputs": [],
   "source": [
    "y_train = to_categorical(y_train, NUM_CLASSES)\n",
    "y_test = to_categorical(y_test, NUM_CLASSES)"
   ]
  },
  {
   "cell_type": "markdown",
   "id": "bizarre-bacteria",
   "metadata": {},
   "source": [
    "## Model \"Sequential\""
   ]
  },
  {
   "cell_type": "code",
   "execution_count": 18,
   "id": "sexual-encoding",
   "metadata": {},
   "outputs": [],
   "source": [
    "from tensorflow.keras.models import Sequential\n",
    "from tensorflow.keras.layers import Flatten, Dense"
   ]
  },
  {
   "cell_type": "code",
   "execution_count": 19,
   "id": "outside-chosen",
   "metadata": {},
   "outputs": [],
   "source": [
    "model = Sequential([\n",
    "    Dense(200, activation='relu', input_shape=(32, 32, 3)),\n",
    "    Flatten(),\n",
    "    Dense(150, activation='relu'),\n",
    "    Dense(10, activation='softmax'),\n",
    "])"
   ]
  },
  {
   "cell_type": "markdown",
   "id": "narrow-talent",
   "metadata": {},
   "source": [
    "## Model with \"functional API\""
   ]
  },
  {
   "cell_type": "code",
   "execution_count": 24,
   "id": "collaborative-graphics",
   "metadata": {},
   "outputs": [],
   "source": [
    "from tensorflow.keras.layers import Input, Flatten, Dense\n",
    "from tensorflow.keras.models import Model"
   ]
  },
  {
   "cell_type": "code",
   "execution_count": 25,
   "id": "stock-wichita",
   "metadata": {},
   "outputs": [],
   "source": [
    "### Слой Input - точка входа в сеть\n",
    "input_layer = Input(shape=(32, 32, 3))"
   ]
  },
  {
   "cell_type": "code",
   "execution_count": 26,
   "id": "heated-transition",
   "metadata": {},
   "outputs": [],
   "source": [
    "### Flatten преобразует данные в вектор, так как слой Dense принимает векторы\n",
    "x = Flatten()(input_layer)"
   ]
  },
  {
   "cell_type": "code",
   "execution_count": 27,
   "id": "dramatic-breakdown",
   "metadata": {},
   "outputs": [],
   "source": [
    "### activation - функция активации следущего слоя (Популярные слои: 'relu', 'sigmoid', 'softmax')\n",
    "### создаем два слоя, один по 200 узлов, другой 150 узлов\n",
    "x = Dense(units=200, activation='relu')(x)\n",
    "x = Dense(units=150, activation='relu')(x)"
   ]
  },
  {
   "cell_type": "code",
   "execution_count": 28,
   "id": "clean-injury",
   "metadata": {},
   "outputs": [],
   "source": [
    "### Выходной слой\n",
    "output_layer = Dense(units=10, activation='softmax')(x)"
   ]
  },
  {
   "cell_type": "code",
   "execution_count": 30,
   "id": "handed-spine",
   "metadata": {},
   "outputs": [],
   "source": [
    "model = Model(input_layer, output_layer)"
   ]
  },
  {
   "cell_type": "code",
   "execution_count": 31,
   "id": "spread-chuck",
   "metadata": {},
   "outputs": [
    {
     "name": "stdout",
     "output_type": "stream",
     "text": [
      "Model: \"model\"\n",
      "_________________________________________________________________\n",
      "Layer (type)                 Output Shape              Param #   \n",
      "=================================================================\n",
      "input_1 (InputLayer)         [(None, 32, 32, 3)]       0         \n",
      "_________________________________________________________________\n",
      "flatten_1 (Flatten)          (None, 3072)              0         \n",
      "_________________________________________________________________\n",
      "dense_4 (Dense)              (None, 200)               614600    \n",
      "_________________________________________________________________\n",
      "dense_5 (Dense)              (None, 150)               30150     \n",
      "_________________________________________________________________\n",
      "dense_6 (Dense)              (None, 10)                1510      \n",
      "=================================================================\n",
      "Total params: 646,260\n",
      "Trainable params: 646,260\n",
      "Non-trainable params: 0\n",
      "_________________________________________________________________\n"
     ]
    }
   ],
   "source": [
    "### Вывод слоев нейронной сети\n",
    "model.summary()"
   ]
  },
  {
   "cell_type": "markdown",
   "id": "supreme-mason",
   "metadata": {},
   "source": [
    "### Компиляция модели, оптимизатор"
   ]
  },
  {
   "cell_type": "code",
   "execution_count": 33,
   "id": "opened-lightning",
   "metadata": {},
   "outputs": [
    {
     "name": "stderr",
     "output_type": "stream",
     "text": [
      "c:\\users\\user\\appdata\\local\\programs\\python\\python39\\lib\\site-packages\\tensorflow\\python\\keras\\optimizer_v2\\optimizer_v2.py:374: UserWarning: The `lr` argument is deprecated, use `learning_rate` instead.\n",
      "  warnings.warn(\n"
     ]
    }
   ],
   "source": [
    "from tensorflow.keras.optimizers import Adam\n",
    "\n",
    "\n",
    "### Adam - этот алгоритм, используемый для обновления весов в нейронной сети на основе градиента функции потерь\n",
    "opt = Adam(lr=0.0005)\n",
    "\n",
    "\n",
    "### Categorical_croosentropy - функция потерь для сравнения ее прогноща с истиной\n",
    "model.compile(loss='categorical_crossentropy', optimizer=opt, \n",
    "             metrics=['accuracy'])"
   ]
  },
  {
   "cell_type": "markdown",
   "id": "differential-leonard",
   "metadata": {},
   "source": [
    "### Обучение модели"
   ]
  },
  {
   "cell_type": "code",
   "execution_count": 35,
   "id": "stable-fence",
   "metadata": {
    "scrolled": false
   },
   "outputs": [
    {
     "name": "stdout",
     "output_type": "stream",
     "text": [
      "Epoch 1/10\n",
      "1563/1563 [==============================] - 5s 3ms/step - loss: 1.9478 - accuracy: 0.2924\n",
      "Epoch 2/10\n",
      "1563/1563 [==============================] - 4s 3ms/step - loss: 1.6842 - accuracy: 0.3972\n",
      "Epoch 3/10\n",
      "1563/1563 [==============================] - 4s 3ms/step - loss: 1.5953 - accuracy: 0.4330\n",
      "Epoch 4/10\n",
      "1563/1563 [==============================] - 4s 3ms/step - loss: 1.5318 - accuracy: 0.4504\n",
      "Epoch 5/10\n",
      "1563/1563 [==============================] - 4s 3ms/step - loss: 1.4944 - accuracy: 0.4619\n",
      "Epoch 6/10\n",
      "1563/1563 [==============================] - 4s 3ms/step - loss: 1.4535 - accuracy: 0.4786\n",
      "Epoch 7/10\n",
      "1563/1563 [==============================] - 4s 3ms/step - loss: 1.4232 - accuracy: 0.4927\n",
      "Epoch 8/10\n",
      "1563/1563 [==============================] - 4s 3ms/step - loss: 1.3925 - accuracy: 0.5036\n",
      "Epoch 9/10\n",
      "1563/1563 [==============================] - 4s 3ms/step - loss: 1.3683 - accuracy: 0.5129\n",
      "Epoch 10/10\n",
      "1563/1563 [==============================] - 4s 3ms/step - loss: 1.3611 - accuracy: 0.5172\n"
     ]
    },
    {
     "data": {
      "text/plain": [
       "<tensorflow.python.keras.callbacks.History at 0x18d0c37a700>"
      ]
     },
     "execution_count": 35,
     "metadata": {},
     "output_type": "execute_result"
    }
   ],
   "source": [
    "model.fit(x_train,             ### 1\n",
    "          y_train,             ### 2\n",
    "          batch_size = 32,     ### 3\n",
    "          epochs = 10,         ### 4\n",
    "          shuffle = True       ### 5\n",
    ")\n",
    "\n",
    "### 1 - Исходные данные\n",
    "### 2 - Метки классов в формате прямого кодирования\n",
    "### 3 - batch_size определяет, сколько наблюдений будет передаваться в сеть на кадом шаге обучения\n",
    "### 4 - epochs определяет, сколько раз сеть будет просматривать полный комплект обучающих данных\n",
    "### 5 - если shuffle=True, то пакеты обучающих данных будут перемешиваться случайным образом перед каждым шагом обучения"
   ]
  },
  {
   "cell_type": "markdown",
   "id": "corrected-inspector",
   "metadata": {},
   "source": [
    "### Оценка модели"
   ]
  },
  {
   "cell_type": "code",
   "execution_count": 37,
   "id": "ambient-asset",
   "metadata": {},
   "outputs": [
    {
     "name": "stdout",
     "output_type": "stream",
     "text": [
      "313/313 [==============================] - 0s 1ms/step - loss: 1.4260 - accuracy: 0.4921\n"
     ]
    },
    {
     "data": {
      "text/plain": [
       "[1.426026701927185, 0.4921000003814697]"
      ]
     },
     "execution_count": 37,
     "metadata": {},
     "output_type": "execute_result"
    }
   ],
   "source": [
    "model.evaluate(x_test, y_test)"
   ]
  },
  {
   "cell_type": "code",
   "execution_count": null,
   "id": "unsigned-yeast",
   "metadata": {},
   "outputs": [],
   "source": []
  }
 ],
 "metadata": {
  "kernelspec": {
   "display_name": "Python 3",
   "language": "python",
   "name": "python3"
  },
  "language_info": {
   "codemirror_mode": {
    "name": "ipython",
    "version": 3
   },
   "file_extension": ".py",
   "mimetype": "text/x-python",
   "name": "python",
   "nbconvert_exporter": "python",
   "pygments_lexer": "ipython3",
   "version": "3.9.2"
  }
 },
 "nbformat": 4,
 "nbformat_minor": 5
}
